{
 "cells": [
  {
   "cell_type": "markdown",
   "metadata": {},
   "source": [
    "# Lasso & Ridge Regression\n",
    "\n",
    "Practicing Lasso & Ridge Regression on rough dataset.\n",
    "Just to understand the concept !"
   ]
  },
  {
   "cell_type": "markdown",
   "metadata": {},
   "source": [
    "Importing Libararies"
   ]
  },
  {
   "cell_type": "code",
   "execution_count": 1,
   "metadata": {},
   "outputs": [],
   "source": [
    "import numpy as np\n",
    "import pandas as pd\n",
    "import matplotlib.pyplot as plt\n",
    "#%matplotlib inline \n",
    "plt.style.use('ggplot') \n",
    "import warnings; warnings.simplefilter('ignore')"
   ]
  },
  {
   "cell_type": "markdown",
   "metadata": {},
   "source": [
    "## Data preparation"
   ]
  },
  {
   "cell_type": "code",
   "execution_count": 3,
   "metadata": {},
   "outputs": [],
   "source": [
    "df = pd.read_csv('/Users/divyabisht/Desktop/datasetlassoridge.csv')"
   ]
  },
  {
   "cell_type": "code",
   "execution_count": 4,
   "metadata": {},
   "outputs": [
    {
     "data": {
      "text/html": [
       "<div>\n",
       "<style scoped>\n",
       "    .dataframe tbody tr th:only-of-type {\n",
       "        vertical-align: middle;\n",
       "    }\n",
       "\n",
       "    .dataframe tbody tr th {\n",
       "        vertical-align: top;\n",
       "    }\n",
       "\n",
       "    .dataframe thead th {\n",
       "        text-align: right;\n",
       "    }\n",
       "</style>\n",
       "<table border=\"1\" class=\"dataframe\">\n",
       "  <thead>\n",
       "    <tr style=\"text-align: right;\">\n",
       "      <th></th>\n",
       "      <th>mpg</th>\n",
       "      <th>cylinders</th>\n",
       "      <th>displacement</th>\n",
       "      <th>horsepower</th>\n",
       "      <th>weight</th>\n",
       "      <th>acceleration</th>\n",
       "      <th>year</th>\n",
       "      <th>origin</th>\n",
       "    </tr>\n",
       "  </thead>\n",
       "  <tbody>\n",
       "    <tr>\n",
       "      <th>0</th>\n",
       "      <td>18.0</td>\n",
       "      <td>8</td>\n",
       "      <td>307.0</td>\n",
       "      <td>130</td>\n",
       "      <td>3504</td>\n",
       "      <td>12.0</td>\n",
       "      <td>70</td>\n",
       "      <td>1</td>\n",
       "    </tr>\n",
       "    <tr>\n",
       "      <th>1</th>\n",
       "      <td>15.0</td>\n",
       "      <td>8</td>\n",
       "      <td>350.0</td>\n",
       "      <td>165</td>\n",
       "      <td>3693</td>\n",
       "      <td>11.5</td>\n",
       "      <td>70</td>\n",
       "      <td>1</td>\n",
       "    </tr>\n",
       "    <tr>\n",
       "      <th>2</th>\n",
       "      <td>18.0</td>\n",
       "      <td>8</td>\n",
       "      <td>318.0</td>\n",
       "      <td>150</td>\n",
       "      <td>3436</td>\n",
       "      <td>11.0</td>\n",
       "      <td>70</td>\n",
       "      <td>1</td>\n",
       "    </tr>\n",
       "    <tr>\n",
       "      <th>3</th>\n",
       "      <td>16.0</td>\n",
       "      <td>8</td>\n",
       "      <td>304.0</td>\n",
       "      <td>150</td>\n",
       "      <td>3433</td>\n",
       "      <td>12.0</td>\n",
       "      <td>70</td>\n",
       "      <td>1</td>\n",
       "    </tr>\n",
       "    <tr>\n",
       "      <th>4</th>\n",
       "      <td>17.0</td>\n",
       "      <td>8</td>\n",
       "      <td>302.0</td>\n",
       "      <td>140</td>\n",
       "      <td>3449</td>\n",
       "      <td>10.5</td>\n",
       "      <td>70</td>\n",
       "      <td>1</td>\n",
       "    </tr>\n",
       "  </tbody>\n",
       "</table>\n",
       "</div>"
      ],
      "text/plain": [
       "    mpg  cylinders  displacement  horsepower  weight  acceleration  year  \\\n",
       "0  18.0          8         307.0         130    3504          12.0    70   \n",
       "1  15.0          8         350.0         165    3693          11.5    70   \n",
       "2  18.0          8         318.0         150    3436          11.0    70   \n",
       "3  16.0          8         304.0         150    3433          12.0    70   \n",
       "4  17.0          8         302.0         140    3449          10.5    70   \n",
       "\n",
       "   origin  \n",
       "0       1  \n",
       "1       1  \n",
       "2       1  \n",
       "3       1  \n",
       "4       1  "
      ]
     },
     "execution_count": 4,
     "metadata": {},
     "output_type": "execute_result"
    }
   ],
   "source": [
    "df.head()"
   ]
  },
  {
   "cell_type": "code",
   "execution_count": 6,
   "metadata": {},
   "outputs": [
    {
     "data": {
      "text/plain": [
       "(392, 8)"
      ]
     },
     "execution_count": 6,
     "metadata": {},
     "output_type": "execute_result"
    }
   ],
   "source": [
    "df.shape"
   ]
  },
  {
   "cell_type": "code",
   "execution_count": 7,
   "metadata": {},
   "outputs": [
    {
     "name": "stdout",
     "output_type": "stream",
     "text": [
      "mpg             0\n",
      "cylinders       0\n",
      "displacement    0\n",
      "horsepower      0\n",
      "weight          0\n",
      "acceleration    0\n",
      "year            0\n",
      "origin          0\n",
      "dtype: int64\n"
     ]
    }
   ],
   "source": [
    "# df['origin'] = pd.Categorical(df['origin'])\n",
    "# df['horsepower'] = pd.to_numeric(df['horsepower'], errors='coerce')\n",
    "\n",
    "# we have to check whether there are any missing values\n",
    "print(df.isnull().sum())"
   ]
  },
  {
   "cell_type": "markdown",
   "metadata": {},
   "source": [
    "## Standardization"
   ]
  },
  {
   "cell_type": "markdown",
   "metadata": {},
   "source": [
    " Standardize the features (module: from sklearn.preprocessing import StandardScaler)"
   ]
  },
  {
   "cell_type": "code",
   "execution_count": 8,
   "metadata": {},
   "outputs": [],
   "source": [
    "#  DataFrame columns to the int32 or 64 dtype\n",
    "dfs = df.astype('int')\n"
   ]
  },
  {
   "cell_type": "code",
   "execution_count": 9,
   "metadata": {},
   "outputs": [
    {
     "name": "stdout",
     "output_type": "stream",
     "text": [
      "<class 'pandas.core.frame.DataFrame'>\n",
      "RangeIndex: 392 entries, 0 to 391\n",
      "Data columns (total 8 columns):\n",
      " #   Column        Non-Null Count  Dtype\n",
      "---  ------        --------------  -----\n",
      " 0   mpg           392 non-null    int64\n",
      " 1   cylinders     392 non-null    int64\n",
      " 2   displacement  392 non-null    int64\n",
      " 3   horsepower    392 non-null    int64\n",
      " 4   weight        392 non-null    int64\n",
      " 5   acceleration  392 non-null    int64\n",
      " 6   year          392 non-null    int64\n",
      " 7   origin        392 non-null    int64\n",
      "dtypes: int64(8)\n",
      "memory usage: 24.6 KB\n"
     ]
    }
   ],
   "source": [
    "# displays the info\n",
    "dfs.info()"
   ]
  },
  {
   "cell_type": "code",
   "execution_count": 10,
   "metadata": {},
   "outputs": [
    {
     "data": {
      "text/plain": [
       "Index(['mpg', 'cylinders', 'displacement', 'horsepower', 'weight',\n",
       "       'acceleration', 'year', 'origin'],\n",
       "      dtype='object')"
      ]
     },
     "execution_count": 10,
     "metadata": {},
     "output_type": "execute_result"
    }
   ],
   "source": [
    "# displays all the columns\n",
    "dfs.columns"
   ]
  },
  {
   "cell_type": "code",
   "execution_count": 11,
   "metadata": {},
   "outputs": [],
   "source": [
    "from sklearn.preprocessing import StandardScaler\n",
    "# StandardScaler() will normalize the features i.e. each column of X, INDIVIDUALLY, so that each column/feature/variable will have μ = 0 and σ = 1.\n",
    "scaler = StandardScaler()\n",
    "dfs[['cylinders', 'displacement', 'horsepower', \n",
    "     'weight', 'acceleration', 'year', 'origin']] = scaler.fit_transform(dfs[['cylinders', \n",
    "                                                                              'displacement', \n",
    "                                                                              'horsepower', \n",
    "                                                                              'weight', \n",
    "                                                                              'acceleration', \n",
    "                                                                              'year', 'origin']])"
   ]
  },
  {
   "cell_type": "code",
   "execution_count": 12,
   "metadata": {},
   "outputs": [
    {
     "data": {
      "text/html": [
       "<div>\n",
       "<style scoped>\n",
       "    .dataframe tbody tr th:only-of-type {\n",
       "        vertical-align: middle;\n",
       "    }\n",
       "\n",
       "    .dataframe tbody tr th {\n",
       "        vertical-align: top;\n",
       "    }\n",
       "\n",
       "    .dataframe thead th {\n",
       "        text-align: right;\n",
       "    }\n",
       "</style>\n",
       "<table border=\"1\" class=\"dataframe\">\n",
       "  <thead>\n",
       "    <tr style=\"text-align: right;\">\n",
       "      <th></th>\n",
       "      <th>mpg</th>\n",
       "      <th>cylinders</th>\n",
       "      <th>displacement</th>\n",
       "      <th>horsepower</th>\n",
       "      <th>weight</th>\n",
       "      <th>acceleration</th>\n",
       "      <th>year</th>\n",
       "      <th>origin</th>\n",
       "    </tr>\n",
       "  </thead>\n",
       "  <tbody>\n",
       "    <tr>\n",
       "      <th>0</th>\n",
       "      <td>18</td>\n",
       "      <td>1.483947</td>\n",
       "      <td>1.077290</td>\n",
       "      <td>0.664133</td>\n",
       "      <td>0.620540</td>\n",
       "      <td>-1.162771</td>\n",
       "      <td>-1.625315</td>\n",
       "      <td>-0.716641</td>\n",
       "    </tr>\n",
       "    <tr>\n",
       "      <th>1</th>\n",
       "      <td>15</td>\n",
       "      <td>1.483947</td>\n",
       "      <td>1.488727</td>\n",
       "      <td>1.574594</td>\n",
       "      <td>0.843334</td>\n",
       "      <td>-1.527708</td>\n",
       "      <td>-1.625315</td>\n",
       "      <td>-0.716641</td>\n",
       "    </tr>\n",
       "    <tr>\n",
       "      <th>2</th>\n",
       "      <td>18</td>\n",
       "      <td>1.483947</td>\n",
       "      <td>1.182541</td>\n",
       "      <td>1.184397</td>\n",
       "      <td>0.540382</td>\n",
       "      <td>-1.527708</td>\n",
       "      <td>-1.625315</td>\n",
       "      <td>-0.716641</td>\n",
       "    </tr>\n",
       "    <tr>\n",
       "      <th>3</th>\n",
       "      <td>16</td>\n",
       "      <td>1.483947</td>\n",
       "      <td>1.048585</td>\n",
       "      <td>1.184397</td>\n",
       "      <td>0.536845</td>\n",
       "      <td>-1.162771</td>\n",
       "      <td>-1.625315</td>\n",
       "      <td>-0.716641</td>\n",
       "    </tr>\n",
       "    <tr>\n",
       "      <th>4</th>\n",
       "      <td>17</td>\n",
       "      <td>1.483947</td>\n",
       "      <td>1.029448</td>\n",
       "      <td>0.924265</td>\n",
       "      <td>0.555706</td>\n",
       "      <td>-1.892646</td>\n",
       "      <td>-1.625315</td>\n",
       "      <td>-0.716641</td>\n",
       "    </tr>\n",
       "    <tr>\n",
       "      <th>...</th>\n",
       "      <td>...</td>\n",
       "      <td>...</td>\n",
       "      <td>...</td>\n",
       "      <td>...</td>\n",
       "      <td>...</td>\n",
       "      <td>...</td>\n",
       "      <td>...</td>\n",
       "      <td>...</td>\n",
       "    </tr>\n",
       "    <tr>\n",
       "      <th>195</th>\n",
       "      <td>29</td>\n",
       "      <td>-0.864014</td>\n",
       "      <td>-0.999034</td>\n",
       "      <td>-0.896659</td>\n",
       "      <td>-1.226643</td>\n",
       "      <td>-0.432897</td>\n",
       "      <td>0.005547</td>\n",
       "      <td>0.526382</td>\n",
       "    </tr>\n",
       "    <tr>\n",
       "      <th>196</th>\n",
       "      <td>33</td>\n",
       "      <td>-0.864014</td>\n",
       "      <td>-0.989466</td>\n",
       "      <td>-1.338883</td>\n",
       "      <td>-1.394033</td>\n",
       "      <td>0.661914</td>\n",
       "      <td>0.005547</td>\n",
       "      <td>1.769406</td>\n",
       "    </tr>\n",
       "    <tr>\n",
       "      <th>197</th>\n",
       "      <td>20</td>\n",
       "      <td>0.309967</td>\n",
       "      <td>0.292688</td>\n",
       "      <td>-0.116263</td>\n",
       "      <td>0.793824</td>\n",
       "      <td>0.661914</td>\n",
       "      <td>0.005547</td>\n",
       "      <td>-0.716641</td>\n",
       "    </tr>\n",
       "    <tr>\n",
       "      <th>198</th>\n",
       "      <td>18</td>\n",
       "      <td>0.309967</td>\n",
       "      <td>0.531896</td>\n",
       "      <td>-0.688553</td>\n",
       "      <td>0.703057</td>\n",
       "      <td>2.121662</td>\n",
       "      <td>0.005547</td>\n",
       "      <td>-0.716641</td>\n",
       "    </tr>\n",
       "    <tr>\n",
       "      <th>199</th>\n",
       "      <td>18</td>\n",
       "      <td>0.309967</td>\n",
       "      <td>0.531896</td>\n",
       "      <td>0.143869</td>\n",
       "      <td>0.786752</td>\n",
       "      <td>0.296977</td>\n",
       "      <td>0.005547</td>\n",
       "      <td>-0.716641</td>\n",
       "    </tr>\n",
       "  </tbody>\n",
       "</table>\n",
       "<p>200 rows × 8 columns</p>\n",
       "</div>"
      ],
      "text/plain": [
       "     mpg  cylinders  displacement  horsepower    weight  acceleration  \\\n",
       "0     18   1.483947      1.077290    0.664133  0.620540     -1.162771   \n",
       "1     15   1.483947      1.488727    1.574594  0.843334     -1.527708   \n",
       "2     18   1.483947      1.182541    1.184397  0.540382     -1.527708   \n",
       "3     16   1.483947      1.048585    1.184397  0.536845     -1.162771   \n",
       "4     17   1.483947      1.029448    0.924265  0.555706     -1.892646   \n",
       "..   ...        ...           ...         ...       ...           ...   \n",
       "195   29  -0.864014     -0.999034   -0.896659 -1.226643     -0.432897   \n",
       "196   33  -0.864014     -0.989466   -1.338883 -1.394033      0.661914   \n",
       "197   20   0.309967      0.292688   -0.116263  0.793824      0.661914   \n",
       "198   18   0.309967      0.531896   -0.688553  0.703057      2.121662   \n",
       "199   18   0.309967      0.531896    0.143869  0.786752      0.296977   \n",
       "\n",
       "         year    origin  \n",
       "0   -1.625315 -0.716641  \n",
       "1   -1.625315 -0.716641  \n",
       "2   -1.625315 -0.716641  \n",
       "3   -1.625315 -0.716641  \n",
       "4   -1.625315 -0.716641  \n",
       "..        ...       ...  \n",
       "195  0.005547  0.526382  \n",
       "196  0.005547  1.769406  \n",
       "197  0.005547 -0.716641  \n",
       "198  0.005547 -0.716641  \n",
       "199  0.005547 -0.716641  \n",
       "\n",
       "[200 rows x 8 columns]"
      ]
     },
     "execution_count": 12,
     "metadata": {},
     "output_type": "execute_result"
    }
   ],
   "source": [
    "\n",
    "dfs.head(200)"
   ]
  },
  {
   "cell_type": "code",
   "execution_count": 13,
   "metadata": {},
   "outputs": [
    {
     "data": {
      "text/plain": [
       "mpg             2.328316e+01\n",
       "cylinders      -1.699321e-16\n",
       "displacement    4.984675e-17\n",
       "horsepower     -4.392745e-16\n",
       "weight          5.607759e-17\n",
       "acceleration   -1.489738e-16\n",
       "year           -9.754102e-16\n",
       "origin          2.883181e-16\n",
       "dtype: float64"
      ]
     },
     "execution_count": 13,
     "metadata": {},
     "output_type": "execute_result"
    }
   ],
   "source": [
    "dfs.mean()"
   ]
  },
  {
   "cell_type": "code",
   "execution_count": 14,
   "metadata": {},
   "outputs": [
    {
     "data": {
      "text/plain": [
       "mpg             7.745896\n",
       "cylinders       1.001278\n",
       "displacement    1.001278\n",
       "horsepower      1.001278\n",
       "weight          1.001278\n",
       "acceleration    1.001278\n",
       "year            1.001278\n",
       "origin          1.001278\n",
       "dtype: float64"
      ]
     },
     "execution_count": 14,
     "metadata": {},
     "output_type": "execute_result"
    }
   ],
   "source": [
    "dfs.std()"
   ]
  },
  {
   "cell_type": "markdown",
   "metadata": {},
   "source": [
    " Split the data set into train and test sets (use X_train, X_test, y_train, y_test), with the first 75% of the data for training and the remaining for testing. (module: from sklearn.model_selection import train_test_split)"
   ]
  },
  {
   "cell_type": "code",
   "execution_count": 15,
   "metadata": {},
   "outputs": [],
   "source": [
    "\n",
    "X = dfs.drop(['cylinders'], axis=1) # leaving the cylinder column and assigning to variable x\n",
    "y = dfs['cylinders']  # assinging cylinder colunm to variable y\n"
   ]
  },
  {
   "cell_type": "code",
   "execution_count": 16,
   "metadata": {},
   "outputs": [],
   "source": [
    "\n",
    "from sklearn.model_selection import train_test_split\n",
    "\n",
    "# we take test data as 25% and training 75% and random state is for giving same result even after running several times\n",
    "X_train, X_test, y_train, y_test = train_test_split(X, y, test_size=0.25, random_state=10)\n"
   ]
  },
  {
   "cell_type": "markdown",
   "metadata": {},
   "source": [
    "## Lasso"
   ]
  },
  {
   "cell_type": "code",
   "execution_count": 17,
   "metadata": {},
   "outputs": [],
   "source": [
    "from sklearn.linear_model import Lasso\n",
    "\n",
    "reg = Lasso(alpha=0.5)\n",
    "# fits in the data\n",
    "ab=reg.fit(X_train, y_train)\n"
   ]
  },
  {
   "cell_type": "code",
   "execution_count": 18,
   "metadata": {},
   "outputs": [
    {
     "name": "stdout",
     "output_type": "stream",
     "text": [
      "Lasso Regression: R^2 score on training set 60.54696039985599\n",
      "Lasso Regression: R^2 score on test set 59.14924777356131\n"
     ]
    }
   ],
   "source": [
    "# it is considered as evaluation metrices and tells how perfect ur model is\n",
    "\n",
    "print('Lasso Regression: R^2 score on training set', reg.score(X_train, y_train)*100)\n",
    "print('Lasso Regression: R^2 score on test set', reg.score(X_test, y_test)*100)"
   ]
  },
  {
   "cell_type": "markdown",
   "metadata": {},
   "source": [
    "## Lasso with different lambdas"
   ]
  },
  {
   "cell_type": "code",
   "execution_count": 19,
   "metadata": {},
   "outputs": [],
   "source": [
    "lambdas = (0.001, 0.01, 0.1, 0.5, 1, 2, 10)\n",
    "l_num = 7\n",
    "pred_num = X.shape[1]\n",
    "\n",
    "# prepare data for enumerate and .zeroes generate the zeroes , its like initializing\n",
    "coeff_a = np.zeros((l_num, pred_num))\n",
    "#print(coeff_a)\n",
    "train_r_squared = np.zeros(l_num)\n",
    "test_r_squared = np.zeros(l_num)"
   ]
  },
  {
   "cell_type": "code",
   "execution_count": 20,
   "metadata": {},
   "outputs": [],
   "source": [
    "# enumerate through lambdas with index and i\n",
    "for ind, i in enumerate(lambdas):    \n",
    "    reg = Lasso(alpha = i)\n",
    "    reg.fit(X_train, y_train)\n",
    "       \n",
    "    coeff_a[ind,:] = reg.coef_\n",
    "    #print(coeff_a[ind,:])\n",
    "    train_r_squared[ind] = reg.score(X_train, y_train)\n",
    "    test_r_squared[ind] = reg.score(X_test, y_test)\n",
    "    #print(train_r_squared[ind])"
   ]
  },
  {
   "cell_type": "markdown",
   "metadata": {},
   "source": [
    "## Plot"
   ]
  },
  {
   "cell_type": "code",
   "execution_count": 21,
   "metadata": {},
   "outputs": [
    {
     "data": {
      "image/png": "[encoded data removed]",
      "text/plain": [
       "<Figure size 1296x576 with 1 Axes>"
      ]
     },
     "metadata": {},
     "output_type": "display_data"
    }
   ],
   "source": [
    "# Plotting of how accuracy varies as lambda value varies\n",
    "plt.figure(figsize=(18, 8))\n",
    "plt.plot(train_r_squared, 'bo-', label=r'$R^2$ Training set', color=\"darkblue\", alpha=0.6, linewidth=3)\n",
    "plt.plot(test_r_squared, 'bo-', label=r'$R^2$ Test set', color=\"darkred\", alpha=0.6, linewidth=3)\n",
    "plt.xlabel('Lamda index'); plt.ylabel(r'$R^2$')\n",
    "plt.xlim(0, 6)\n",
    "plt.title(r'Evaluate lasso regression with lamdas: 0 = 0.001, 1= 0.01, 2 = 0.1, 3 = 0.5, 4= 1, 5= 2, 6 = 10')\n",
    "plt.legend(loc='best')\n",
    "plt.grid()"
   ]
  },
  {
   "cell_type": "markdown",
   "metadata": {},
   "source": [
    "## Identifiy best lambda and coefficients"
   ]
  },
  {
   "cell_type": "code",
   "execution_count": 22,
   "metadata": {},
   "outputs": [
    {
     "data": {
      "text/plain": [
       "R_squared    89.988665\n",
       "lambda        0.010000\n",
       "Name: 1, dtype: float64"
      ]
     },
     "execution_count": 22,
     "metadata": {},
     "output_type": "execute_result"
    }
   ],
   "source": [
    "# returns the index of the row where column has maximum value.\n",
    "df_lam = pd.DataFrame(test_r_squared*100, columns=['R_squared'])\n",
    "df_lam['lambda'] = (lambdas)\n",
    "df_lam.loc[df_lam['R_squared'].idxmax()]"
   ]
  },
  {
   "cell_type": "code",
   "execution_count": 23,
   "metadata": {},
   "outputs": [
    {
     "data": {
      "text/plain": [
       "array([-0.0121137 ,  0.86054129, -0.        ,  0.02968984, -0.        ,\n",
       "        0.02517286,  0.02472341])"
      ]
     },
     "execution_count": 23,
     "metadata": {},
     "output_type": "execute_result"
    }
   ],
   "source": [
    "# Coefficients of best model\n",
    "reg_best = Lasso(alpha = 0.01)\n",
    "reg_best.fit(X_train, y_train)\n",
    "reg_best.coef_"
   ]
  },
  {
   "cell_type": "code",
   "execution_count": 24,
   "metadata": {},
   "outputs": [
    {
     "data": {
      "text/plain": [
       "0.10555681669590934"
      ]
     },
     "execution_count": 24,
     "metadata": {},
     "output_type": "execute_result"
    }
   ],
   "source": [
    "# the less mse is the more the accuracy is\n",
    "from sklearn.metrics import mean_squared_error\n",
    "mean_squared_error(y_test, reg_best.predict(X_test))"
   ]
  },
  {
   "cell_type": "markdown",
   "metadata": {},
   "source": [
    "# RIDGE"
   ]
  },
  {
   "cell_type": "code",
   "execution_count": 25,
   "metadata": {},
   "outputs": [
    {
     "data": {
      "text/plain": [
       "Ridge(alpha=0.5)"
      ]
     },
     "execution_count": 25,
     "metadata": {},
     "output_type": "execute_result"
    }
   ],
   "source": [
    "from sklearn.linear_model import Ridge\n",
    "\n",
    "regre = Ridge(alpha=0.5)\n",
    "# fits in the data\n",
    "regre.fit(X_train, y_train)\n"
   ]
  },
  {
   "cell_type": "code",
   "execution_count": 26,
   "metadata": {},
   "outputs": [
    {
     "name": "stdout",
     "output_type": "stream",
     "text": [
      "Lasso Regression: R^2 score on training set 90.93176894721641\n",
      "Lasso Regression: R^2 score on test set 89.89801443737603\n"
     ]
    }
   ],
   "source": [
    "# it is considered as evaluation metrices and tells how perfect ur model is\n",
    "\n",
    "print('Lasso Regression: R^2 score on training set', regre.score(X_train, y_train)*100)\n",
    "print('Lasso Regression: R^2 score on test set', regre.score(X_test, y_test)*100)"
   ]
  },
  {
   "cell_type": "markdown",
   "metadata": {},
   "source": [
    "## Lasso with different lambdas"
   ]
  },
  {
   "cell_type": "code",
   "execution_count": 27,
   "metadata": {},
   "outputs": [],
   "source": [
    "lambdas = (0.001, 0.01, 0.1, 0.5, 1, 2, 10)\n",
    "l_num = 7\n",
    "pred_num = X.shape[1]\n",
    "\n",
    "# prepare data for enumerate and .zeroes generate the zeroes , its like initializing\n",
    "coeff_aa = np.zeros((l_num, pred_num))\n",
    "#print(coeff_a)\n",
    "train_re_squared = np.zeros(l_num)\n",
    "test_re_squared = np.zeros(l_num)"
   ]
  },
  {
   "cell_type": "code",
   "execution_count": 28,
   "metadata": {},
   "outputs": [],
   "source": [
    "# enumerate through lambdas with index and i\n",
    "for ind, i in enumerate(lambdas):    \n",
    "    regre = Ridge(alpha = i)\n",
    "    regre.fit(X_train, y_train)\n",
    "       \n",
    "    coeff_aa[ind,:] = reg.coef_\n",
    "    #print(coeff_a[ind,:])\n",
    "    train_re_squared[ind] = regre.score(X_train, y_train)\n",
    "    test_re_squared[ind] = regre.score(X_test, y_test)\n",
    "    #print(train_r_squared[ind])"
   ]
  },
  {
   "cell_type": "markdown",
   "metadata": {},
   "source": [
    "## Plot"
   ]
  },
  {
   "cell_type": "code",
   "execution_count": 29,
   "metadata": {},
   "outputs": [
    {
     "data": {
      "image/png": "[encoded data removed]",
      "text/plain": [
       "<Figure size 1296x576 with 1 Axes>"
      ]
     },
     "metadata": {},
     "output_type": "display_data"
    }
   ],
   "source": [
    "# Plotting of how accuracy varies as lambda value varies\n",
    "plt.figure(figsize=(18, 8))\n",
    "plt.plot(train_re_squared, 'bo-', label=r'$R^2$ Training set', color=\"darkblue\", alpha=0.6, linewidth=3)\n",
    "plt.plot(test_re_squared, 'bo-', label=r'$R^2$ Test set', color=\"darkred\", alpha=0.6, linewidth=3)\n",
    "plt.xlabel('Lamda index'); plt.ylabel(r'$R^2$')\n",
    "plt.xlim(0, 6)\n",
    "plt.title(r'Evaluate Ridge regression with lamdas: 0 = 0.001, 1= 0.01, 2 = 0.1, 3 = 0.5, 4= 1, 5= 2, 6 = 10')\n",
    "plt.legend(loc='best')\n",
    "plt.grid()"
   ]
  },
  {
   "cell_type": "markdown",
   "metadata": {},
   "source": [
    "## Identifiy best lambda and coefficients"
   ]
  },
  {
   "cell_type": "code",
   "execution_count": 30,
   "metadata": {},
   "outputs": [
    {
     "data": {
      "text/plain": [
       "R_squared    89.895971\n",
       "lambda        0.010000\n",
       "Name: 1, dtype: float64"
      ]
     },
     "execution_count": 30,
     "metadata": {},
     "output_type": "execute_result"
    }
   ],
   "source": [
    "# returns the index of the row where column has maximum value.\n",
    "df_lamb = pd.DataFrame(test_re_squared*100, columns=['R_squared'])\n",
    "df_lamb['lambda'] = (lambdas)\n",
    "df_lamb.loc[df_lam['R_squared'].idxmax()]"
   ]
  },
  {
   "cell_type": "code",
   "execution_count": 31,
   "metadata": {},
   "outputs": [
    {
     "data": {
      "text/plain": [
       "array([-0.01273259,  0.93313443, -0.14023004,  0.09486654, -0.04429476,\n",
       "        0.02946939,  0.06223684])"
      ]
     },
     "execution_count": 31,
     "metadata": {},
     "output_type": "execute_result"
    }
   ],
   "source": [
    "# Coefficients of best model\n",
    "regr_best = Ridge(alpha = 0.5)\n",
    "regr_best.fit(X_train, y_train)\n",
    "regr_best.coef_"
   ]
  },
  {
   "cell_type": "code",
   "execution_count": 32,
   "metadata": {},
   "outputs": [
    {
     "data": {
      "text/plain": [
       "0.10651260853633701"
      ]
     },
     "execution_count": 32,
     "metadata": {},
     "output_type": "execute_result"
    }
   ],
   "source": [
    "# the less mse is the more the accuracy is\n",
    "from sklearn.metrics import mean_squared_error\n",
    "mean_squared_error(y_test, regr_best.predict(X_test))"
   ]
  }
 ],
 "metadata": {
  "kernelspec": {
   "display_name": "Python 3",
   "language": "python",
   "name": "python3"
  },
  "language_info": {
   "codemirror_mode": {
    "name": "ipython",
    "version": 3
   },
   "file_extension": ".py",
   "mimetype": "text/x-python",
   "name": "python",
   "nbconvert_exporter": "python",
   "pygments_lexer": "ipython3",
   "version": "3.8.8"
  }
 },
 "nbformat": 4,
 "nbformat_minor": 4
}
